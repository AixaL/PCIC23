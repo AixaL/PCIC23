{
 "cells": [
  {
   "cell_type": "code",
   "execution_count": 1,
   "metadata": {},
   "outputs": [],
   "source": [
    "import pandas as pd"
   ]
  },
  {
   "cell_type": "code",
   "execution_count": 37,
   "metadata": {},
   "outputs": [],
   "source": [
    "df = pd.read_csv('LinksAll.txt', delimiter=' ', names=['file_name','cdn_link'])"
   ]
  },
  {
   "cell_type": "code",
   "execution_count": 38,
   "metadata": {},
   "outputs": [
    {
     "data": {
      "text/html": [
       "<div>\n",
       "<style scoped>\n",
       "    .dataframe tbody tr th:only-of-type {\n",
       "        vertical-align: middle;\n",
       "    }\n",
       "\n",
       "    .dataframe tbody tr th {\n",
       "        vertical-align: top;\n",
       "    }\n",
       "\n",
       "    .dataframe thead th {\n",
       "        text-align: right;\n",
       "    }\n",
       "</style>\n",
       "<table border=\"1\" class=\"dataframe\">\n",
       "  <thead>\n",
       "    <tr style=\"text-align: right;\">\n",
       "      <th></th>\n",
       "      <th>file_name</th>\n",
       "      <th>cdn_link</th>\n",
       "    </tr>\n",
       "  </thead>\n",
       "  <tbody>\n",
       "    <tr>\n",
       "      <th>0</th>\n",
       "      <td>CCv2_part_1.zip</td>\n",
       "      <td>https://scontent.xx.fbcdn.net/m1/v/t6/An8fAvLh...</td>\n",
       "    </tr>\n",
       "    <tr>\n",
       "      <th>1</th>\n",
       "      <td>CCv2_part_10.zip</td>\n",
       "      <td>https://scontent.xx.fbcdn.net/m1/v/t6/An8R4hmZ...</td>\n",
       "    </tr>\n",
       "    <tr>\n",
       "      <th>2</th>\n",
       "      <td>CCv2_part_11.zip</td>\n",
       "      <td>https://scontent.xx.fbcdn.net/m1/v/t6/An8mbpoa...</td>\n",
       "    </tr>\n",
       "    <tr>\n",
       "      <th>3</th>\n",
       "      <td>CCv2_part_12.zip</td>\n",
       "      <td>https://scontent.xx.fbcdn.net/m1/v/t6/An-yhcpZ...</td>\n",
       "    </tr>\n",
       "    <tr>\n",
       "      <th>4</th>\n",
       "      <td>CCv2_part_18.zip</td>\n",
       "      <td>https://scontent.xx.fbcdn.net/m1/v/t6/An_mgWtu...</td>\n",
       "    </tr>\n",
       "  </tbody>\n",
       "</table>\n",
       "</div>"
      ],
      "text/plain": [
       "          file_name                                           cdn_link\n",
       "0   CCv2_part_1.zip  https://scontent.xx.fbcdn.net/m1/v/t6/An8fAvLh...\n",
       "1  CCv2_part_10.zip  https://scontent.xx.fbcdn.net/m1/v/t6/An8R4hmZ...\n",
       "2  CCv2_part_11.zip  https://scontent.xx.fbcdn.net/m1/v/t6/An8mbpoa...\n",
       "3  CCv2_part_12.zip  https://scontent.xx.fbcdn.net/m1/v/t6/An-yhcpZ...\n",
       "4  CCv2_part_18.zip  https://scontent.xx.fbcdn.net/m1/v/t6/An_mgWtu..."
      ]
     },
     "execution_count": 38,
     "metadata": {},
     "output_type": "execute_result"
    }
   ],
   "source": [
    "df.head()"
   ]
  },
  {
   "cell_type": "code",
   "execution_count": 39,
   "metadata": {},
   "outputs": [],
   "source": [
    "df.sort_values(by='file_name', ascending=True, inplace=True)"
   ]
  },
  {
   "cell_type": "code",
   "execution_count": 44,
   "metadata": {},
   "outputs": [],
   "source": [
    "df['number'] = df['file_name'].str.extract(r'CCv2_part_(\\d+)')\n",
    "df['number'] = df['number'].astype(int)\n",
    "\n",
    "# Ordena el DataFrame en función de la columna 'number'\n",
    "df.sort_values(by='number', ascending=True, inplace=True)\n"
   ]
  },
  {
   "cell_type": "code",
   "execution_count": 45,
   "metadata": {},
   "outputs": [
    {
     "data": {
      "text/html": [
       "<div>\n",
       "<style scoped>\n",
       "    .dataframe tbody tr th:only-of-type {\n",
       "        vertical-align: middle;\n",
       "    }\n",
       "\n",
       "    .dataframe tbody tr th {\n",
       "        vertical-align: top;\n",
       "    }\n",
       "\n",
       "    .dataframe thead th {\n",
       "        text-align: right;\n",
       "    }\n",
       "</style>\n",
       "<table border=\"1\" class=\"dataframe\">\n",
       "  <thead>\n",
       "    <tr style=\"text-align: right;\">\n",
       "      <th></th>\n",
       "      <th>file_name</th>\n",
       "      <th>cdn_link</th>\n",
       "      <th>number</th>\n",
       "    </tr>\n",
       "  </thead>\n",
       "  <tbody>\n",
       "    <tr>\n",
       "      <th>0</th>\n",
       "      <td>CCv2_part_1.zip</td>\n",
       "      <td>https://scontent.xx.fbcdn.net/m1/v/t6/An8fAvLh...</td>\n",
       "      <td>1</td>\n",
       "    </tr>\n",
       "    <tr>\n",
       "      <th>53</th>\n",
       "      <td>CCv2_part_2.zip</td>\n",
       "      <td>https://scontent.xx.fbcdn.net/m1/v/t6/An9rcE8M...</td>\n",
       "      <td>2</td>\n",
       "    </tr>\n",
       "    <tr>\n",
       "      <th>58</th>\n",
       "      <td>CCv2_part_3.zip</td>\n",
       "      <td>https://scontent.xx.fbcdn.net/m1/v/t6/An_O0S2u...</td>\n",
       "      <td>3</td>\n",
       "    </tr>\n",
       "    <tr>\n",
       "      <th>59</th>\n",
       "      <td>CCv2_part_4.zip</td>\n",
       "      <td>https://scontent.xx.fbcdn.net/m1/v/t6/An8LcpkU...</td>\n",
       "      <td>4</td>\n",
       "    </tr>\n",
       "    <tr>\n",
       "      <th>60</th>\n",
       "      <td>CCv2_part_5.zip</td>\n",
       "      <td>https://scontent.xx.fbcdn.net/m1/v/t6/An9-uJGo...</td>\n",
       "      <td>5</td>\n",
       "    </tr>\n",
       "  </tbody>\n",
       "</table>\n",
       "</div>"
      ],
      "text/plain": [
       "          file_name                                           cdn_link  number\n",
       "0   CCv2_part_1.zip  https://scontent.xx.fbcdn.net/m1/v/t6/An8fAvLh...       1\n",
       "53  CCv2_part_2.zip  https://scontent.xx.fbcdn.net/m1/v/t6/An9rcE8M...       2\n",
       "58  CCv2_part_3.zip  https://scontent.xx.fbcdn.net/m1/v/t6/An_O0S2u...       3\n",
       "59  CCv2_part_4.zip  https://scontent.xx.fbcdn.net/m1/v/t6/An8LcpkU...       4\n",
       "60  CCv2_part_5.zip  https://scontent.xx.fbcdn.net/m1/v/t6/An9-uJGo...       5"
      ]
     },
     "execution_count": 45,
     "metadata": {},
     "output_type": "execute_result"
    }
   ],
   "source": [
    "df.head()"
   ]
  },
  {
   "cell_type": "code",
   "execution_count": 46,
   "metadata": {},
   "outputs": [],
   "source": [
    "nuevo_archivo = 'LinksAll.csv'\n",
    "\n",
    "# Utiliza el método to_csv para guardar el DataFrame en un archivo CSV\n",
    "df.to_csv(nuevo_archivo, index=False)"
   ]
  },
  {
   "cell_type": "code",
   "execution_count": 47,
   "metadata": {},
   "outputs": [],
   "source": [
    "# Supongamos que ya has realizado todas las operaciones que deseas en el DataFrame y lo has llamado 'df'.\n",
    "\n",
    "# Selecciona las primeras 20 filas\n",
    "primeras_20_filas = df.head(20)\n",
    "\n",
    "# Reemplaza 'primeras_20_filas.csv' con el nombre del archivo en el que deseas guardar las filas.\n",
    "nuevo_archivo='First20.csv'\n",
    "\n",
    "# Utiliza el método to_csv para guardar las primeras 20 filas en un archivo CSV\n",
    "primeras_20_filas.to_csv(nuevo_archivo, index=False)  # El argumento index=False evita que se agregue una columna de índice al archivo.\n"
   ]
  }
 ],
 "metadata": {
  "kernelspec": {
   "display_name": "Python 3",
   "language": "python",
   "name": "python3"
  },
  "language_info": {
   "codemirror_mode": {
    "name": "ipython",
    "version": 3
   },
   "file_extension": ".py",
   "mimetype": "text/x-python",
   "name": "python",
   "nbconvert_exporter": "python",
   "pygments_lexer": "ipython3",
   "version": "3.8.16"
  }
 },
 "nbformat": 4,
 "nbformat_minor": 2
}
